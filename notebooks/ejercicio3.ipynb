{
 "cells": [
  {
   "cell_type": "code",
   "execution_count": 1,
   "id": "486748e4-7a16-4545-89b6-fea45adbe99d",
   "metadata": {},
   "outputs": [],
   "source": [
    "import sys\n",
    "import os\n",
    "\n",
    "sys.path.append(os.path.abspath('..')) \n",
    "\n",
    "from src import funcion3"
   ]
  },
  {
   "cell_type": "code",
   "execution_count": null,
   "id": "6e730373-a2cd-474c-9f00-bc63d4b69826",
   "metadata": {},
   "outputs": [],
   "source": [
    "funcion3.ingresa_clave()"
   ]
  },
  {
   "cell_type": "code",
   "execution_count": null,
   "id": "bccb41e9-f76f-4ee2-a642-c2838a6d0552",
   "metadata": {},
   "outputs": [],
   "source": []
  }
 ],
 "metadata": {
  "kernelspec": {
   "display_name": "Python 3 (ipykernel)",
   "language": "python",
   "name": "python3"
  },
  "language_info": {
   "codemirror_mode": {
    "name": "ipython",
    "version": 3
   },
   "file_extension": ".py",
   "mimetype": "text/x-python",
   "name": "python",
   "nbconvert_exporter": "python",
   "pygments_lexer": "ipython3",
   "version": "3.12.9"
  }
 },
 "nbformat": 4,
 "nbformat_minor": 5
}
