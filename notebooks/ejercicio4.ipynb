{
 "cells": [
  {
   "cell_type": "code",
   "execution_count": 1,
   "id": "d3e689b4-c2ba-4d8c-9898-953d3fbfe81d",
   "metadata": {},
   "outputs": [],
   "source": [
    "import sys\n",
    "import os\n",
    "\n",
    "sys.path.append(os.path.abspath('../src'))\n",
    "\n",
    "import funcion4"
   ]
  },
  {
   "cell_type": "code",
   "execution_count": 2,
   "id": "297abcf1-63aa-475f-9d33-05835dfa61a4",
   "metadata": {},
   "outputs": [
    {
     "name": "stdin",
     "output_type": "stream",
     "text": [
      "ingrese nombre de Usuario:  Santiago213\n"
     ]
    }
   ],
   "source": [
    "nombre = input(\"ingrese nombre de Usuario: \")"
   ]
  },
  {
   "cell_type": "code",
   "execution_count": 3,
   "id": "5f5f808f-da3e-4c06-a12e-2be44935467f",
   "metadata": {},
   "outputs": [
    {
     "name": "stdout",
     "output_type": "stream",
     "text": [
      "El nombre de usuario es válido.\n"
     ]
    }
   ],
   "source": [
    "if (funcion4.validacion(nombre)) :\n",
    "    print(\"El nombre de usuario es válido.\")\n",
    "else :\n",
    "    print(\"El nombre de usuario no cumple con los requisitos.\")"
   ]
  },
  {
   "cell_type": "code",
   "execution_count": null,
   "id": "cc5d405e-9f87-4f26-ba4d-c7d62f9901b7",
   "metadata": {},
   "outputs": [],
   "source": []
  }
 ],
 "metadata": {
  "kernelspec": {
   "display_name": "Python 3 (ipykernel)",
   "language": "python",
   "name": "python3"
  },
  "language_info": {
   "codemirror_mode": {
    "name": "ipython",
    "version": 3
   },
   "file_extension": ".py",
   "mimetype": "text/x-python",
   "name": "python",
   "nbconvert_exporter": "python",
   "pygments_lexer": "ipython3",
   "version": "3.12.9"
  }
 },
 "nbformat": 4,
 "nbformat_minor": 5
}
