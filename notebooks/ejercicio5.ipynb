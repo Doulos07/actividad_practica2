{
 "cells": [
  {
   "cell_type": "code",
   "execution_count": 4,
   "id": "66662094-ffbd-402f-8f93-6ab6856f3c39",
   "metadata": {},
   "outputs": [],
   "source": [
    "import sys\n",
    "import os\n",
    "\n",
    "sys.path.append(os.path.abspath('..')) \n",
    "\n",
    "from src.funcion5 import categoria"
   ]
  },
  {
   "cell_type": "code",
   "execution_count": 5,
   "id": "8877a1dd-3d29-49a4-86c9-ebb4d8017fa8",
   "metadata": {},
   "outputs": [
    {
     "name": "stdin",
     "output_type": "stream",
     "text": [
      "Ingrese su tiempo de reacción en ms:  300\n"
     ]
    },
    {
     "name": "stdout",
     "output_type": "stream",
     "text": [
      "Categoria : normal\n"
     ]
    }
   ],
   "source": [
    "\n",
    "tiempo = int(input(\"Ingrese su tiempo de reacción en ms: \"))\n",
    "\n",
    "categoria(tiempo)"
   ]
  },
  {
   "cell_type": "code",
   "execution_count": null,
   "id": "aea434ab-993e-4def-bd9f-36e167578f6a",
   "metadata": {},
   "outputs": [],
   "source": [
    "categoria(tiempo)"
   ]
  }
 ],
 "metadata": {
  "kernelspec": {
   "display_name": "Python 3 (ipykernel)",
   "language": "python",
   "name": "python3"
  },
  "language_info": {
   "codemirror_mode": {
    "name": "ipython",
    "version": 3
   },
   "file_extension": ".py",
   "mimetype": "text/x-python",
   "name": "python",
   "nbconvert_exporter": "python",
   "pygments_lexer": "ipython3",
   "version": "3.12.9"
  }
 },
 "nbformat": 4,
 "nbformat_minor": 5
}
