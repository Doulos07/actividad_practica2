{
 "cells": [
  {
   "cell_type": "code",
   "execution_count": 11,
   "id": "56e1c9ec-7f52-44d5-bf37-6e1ba95f6517",
   "metadata": {},
   "outputs": [],
   "source": [
    "import sys\n",
    "import os\n",
    "\n",
    "sys.path.append(os.path.abspath('..')) \n"
   ]
  },
  {
   "cell_type": "code",
   "execution_count": 12,
   "id": "5c7c5c1a-400a-41bc-93b4-8fb6a9af3a84",
   "metadata": {},
   "outputs": [],
   "source": [
    "from src.funcion7  import funcion "
   ]
  },
  {
   "cell_type": "code",
   "execution_count": 13,
   "id": "3ba607d5-ef8a-42f4-902e-7a2717b97c67",
   "metadata": {},
   "outputs": [
    {
     "name": "stdin",
     "output_type": "stream",
     "text": [
      "Usuario :  Sanntaigo123\n",
      "ingrese fecha con formato xxxx-xx-xx : 2323-23-12\n"
     ]
    },
    {
     "name": "stdout",
     "output_type": "stream",
     "text": [
      "SANNTAIGO123-2323-23-12-MLOL97CQR\n"
     ]
    }
   ],
   "source": [
    "usuario = input(\"Usuario : \") #validar que no tenga mas de 15 char\n",
    "if (len(usuario) <= 15) : \n",
    "     fecha = input(\"ingrese fecha con formato xxxx-xx-xx :\")\n",
    "     caracteres = funcion(usuario, fecha)\n",
    "     caracteres = caracteres.upper()\n",
    "     print(caracteres)\n",
    "else :\n",
    "     print(\"Solo se permite nombre de usuario de hasta 15 caracteres\")"
   ]
  },
  {
   "cell_type": "code",
   "execution_count": null,
   "id": "6451da69-19f1-4a34-a90a-ed3cf4eeb923",
   "metadata": {},
   "outputs": [],
   "source": []
  }
 ],
 "metadata": {
  "kernelspec": {
   "display_name": "Python 3 (ipykernel)",
   "language": "python",
   "name": "python3"
  },
  "language_info": {
   "codemirror_mode": {
    "name": "ipython",
    "version": 3
   },
   "file_extension": ".py",
   "mimetype": "text/x-python",
   "name": "python",
   "nbconvert_exporter": "python",
   "pygments_lexer": "ipython3",
   "version": "3.12.9"
  }
 },
 "nbformat": 4,
 "nbformat_minor": 5
}
