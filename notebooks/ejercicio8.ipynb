{
 "cells": [
  {
   "cell_type": "code",
   "execution_count": 6,
   "id": "f4146049-137c-41ea-9b2e-42e5ae7b6a41",
   "metadata": {},
   "outputs": [],
   "source": [
    "import sys\n",
    "import os\n",
    "\n",
    "sys.path.append(os.path.abspath('..')) "
   ]
  },
  {
   "cell_type": "code",
   "execution_count": 7,
   "id": "af8ac602-2125-4a8c-aeae-c1a34ff1cc3d",
   "metadata": {},
   "outputs": [],
   "source": [
    "from src.funcion8 import son_anagrama"
   ]
  },
  {
   "cell_type": "code",
   "execution_count": 8,
   "id": "50dd1fbc-9584-473b-a007-4af5caaca655",
   "metadata": {},
   "outputs": [
    {
     "name": "stdout",
     "output_type": "stream",
     "text": [
      "ingrese dos palabras para verificar si son anagrama\n"
     ]
    },
    {
     "name": "stdout",
     "output_type": "stream",
     "text": [
      "palabra 1 : MAr\n",
      "palabra 2 : Ram\n"
     ]
    }
   ],
   "source": [
    "print(\"ingrese dos palabras para verificar si son anagrama\")\n",
    "palabra1 = input(\"palabra 1 :\")\n",
    "palabra2 = input(\"palabra 2 :\")"
   ]
  },
  {
   "cell_type": "code",
   "execution_count": 9,
   "id": "34269d3e-5dd4-4435-8dc9-b8aa9e27d5fa",
   "metadata": {},
   "outputs": [
    {
     "name": "stdout",
     "output_type": "stream",
     "text": [
      "Son anagrama\n"
     ]
    }
   ],
   "source": [
    "print(son_anagrama (palabra1, palabra2))"
   ]
  }
 ],
 "metadata": {
  "kernelspec": {
   "display_name": "venv",
   "language": "python",
   "name": "python3"
  },
  "language_info": {
   "codemirror_mode": {
    "name": "ipython",
    "version": 3
   },
   "file_extension": ".py",
   "mimetype": "text/x-python",
   "name": "python",
   "nbconvert_exporter": "python",
   "pygments_lexer": "ipython3",
   "version": "3.12.9"
  }
 },
 "nbformat": 4,
 "nbformat_minor": 5
}
